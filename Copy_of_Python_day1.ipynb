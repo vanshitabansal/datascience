{
  "nbformat": 4,
  "nbformat_minor": 0,
  "metadata": {
    "kernelspec": {
      "display_name": "Python 3",
      "language": "python",
      "name": "python3"
    },
    "language_info": {
      "codemirror_mode": {
        "name": "ipython",
        "version": 3
      },
      "file_extension": ".py",
      "mimetype": "text/x-python",
      "name": "python",
      "nbconvert_exporter": "python",
      "pygments_lexer": "ipython3",
      "version": "3.8.0"
    },
    "colab": {
      "name": "Copy of Python_day1.ipynb",
      "provenance": [],
      "include_colab_link": true
    }
  },
  "cells": [
    {
      "cell_type": "markdown",
      "metadata": {
        "id": "view-in-github",
        "colab_type": "text"
      },
      "source": [
        "<a href=\"https://colab.research.google.com/github/vanshitabansal/datascience/blob/master/Copy_of_Python_day1.ipynb\" target=\"_parent\"><img src=\"https://colab.research.google.com/assets/colab-badge.svg\" alt=\"Open In Colab\"/></a>"
      ]
    },
    {
      "cell_type": "code",
      "metadata": {
        "id": "YQGc77vNHP6z",
        "colab_type": "code",
        "outputId": "db4bb90e-192d-4ce1-97f5-daa61b3dac4c",
        "colab": {}
      },
      "source": [
        "print(\"Hello\")\n",
        "\n",
        "# Shift + Enter to run a cell"
      ],
      "execution_count": 0,
      "outputs": [
        {
          "output_type": "stream",
          "text": [
            "Hello\n"
          ],
          "name": "stdout"
        }
      ]
    },
    {
      "cell_type": "code",
      "metadata": {
        "id": "uJ7DrWvmHP68",
        "colab_type": "code",
        "outputId": "143a9a20-e718-4040-ca7d-13ebca6f5670",
        "colab": {}
      },
      "source": [
        "# Basic Programmming in Python\n",
        "# Variables\n",
        "a = 10\n",
        "b = 20.5\n",
        "print(\"a + b\")\n",
        "print(a + b)\n"
      ],
      "execution_count": 0,
      "outputs": [
        {
          "output_type": "stream",
          "text": [
            "a + b\n",
            "30.5\n"
          ],
          "name": "stdout"
        }
      ]
    },
    {
      "cell_type": "code",
      "metadata": {
        "id": "LxyW1pO9HP7A",
        "colab_type": "code",
        "outputId": "c7774217-f915-434b-d0e1-295e80fd4290",
        "colab": {}
      },
      "source": [
        "print(type(b))"
      ],
      "execution_count": 0,
      "outputs": [
        {
          "output_type": "stream",
          "text": [
            "<class 'float'>\n"
          ],
          "name": "stdout"
        }
      ]
    },
    {
      "cell_type": "code",
      "metadata": {
        "id": "twBRueZmHP7E",
        "colab_type": "code",
        "outputId": "a81c2ef0-70b0-4c47-a697-a36362bfbd3e",
        "colab": {}
      },
      "source": [
        "# Airthmetic\n",
        "2//3"
      ],
      "execution_count": 0,
      "outputs": [
        {
          "output_type": "execute_result",
          "data": {
            "text/plain": [
              "0"
            ]
          },
          "metadata": {
            "tags": []
          },
          "execution_count": 8
        }
      ]
    },
    {
      "cell_type": "code",
      "metadata": {
        "id": "i30IaPpRHP7H",
        "colab_type": "code",
        "outputId": "cc90a5c7-05d0-45d8-c61e-ee0728fb89aa",
        "colab": {}
      },
      "source": [
        "# Input\n",
        "college = input()\n",
        "print(\"You are at \",college)"
      ],
      "execution_count": 0,
      "outputs": [
        {
          "output_type": "stream",
          "text": [
            "JEC\n",
            "You are at  JEC\n"
          ],
          "name": "stdout"
        }
      ]
    },
    {
      "cell_type": "code",
      "metadata": {
        "id": "GPsZE0LuHP7L",
        "colab_type": "code",
        "outputId": "0cfcd892-d547-4c0b-f000-6d1ce108fc46",
        "colab": {}
      },
      "source": [
        "n = int(input(\"enter a no \"))\n",
        "print(\" n is \",n,type(n))"
      ],
      "execution_count": 0,
      "outputs": [
        {
          "output_type": "stream",
          "text": [
            "enter a no 10\n",
            " n is  10 <class 'int'>\n"
          ],
          "name": "stdout"
        }
      ]
    },
    {
      "cell_type": "code",
      "metadata": {
        "id": "CGbzbogJHP7P",
        "colab_type": "code",
        "outputId": "dd79ccdf-30c4-4168-d09a-a80b9725aa6c",
        "colab": {}
      },
      "source": [
        "# Strings\n",
        "a =\"We are learning Python\"\n",
        "print(len(a))\n",
        "print(a[-1])\n",
        "\n",
        "# Split a string into words\n",
        "l = a.split()\n",
        "print(l)\n",
        "print(l[0])\n",
        "print(l[0][0])\n",
        "print(len(l))\n",
        "print(type(l))"
      ],
      "execution_count": 0,
      "outputs": [
        {
          "output_type": "stream",
          "text": [
            "22\n",
            "n\n",
            "['We', 'are', 'learning', 'Python']\n",
            "We\n",
            "W\n",
            "4\n",
            "<class 'list'>\n"
          ],
          "name": "stdout"
        }
      ]
    },
    {
      "cell_type": "code",
      "metadata": {
        "id": "3rVqmqVbHP7S",
        "colab_type": "code",
        "outputId": "e3aa84e6-4543-4cd0-fe71-480036a3b4b4",
        "colab": {}
      },
      "source": [
        "# List \n",
        "l = [1,2,3,4,\"Hello\"]\n",
        "print(l)\n",
        "l.insert(2,\"Two\")\n",
        "l.append(\"Last\")\n",
        "l.pop?\n",
        "print(len(l))\n",
        "print(l)"
      ],
      "execution_count": 0,
      "outputs": [
        {
          "output_type": "stream",
          "text": [
            "[1, 2, 3, 4, 'Hello']\n",
            "7\n",
            "[1, 2, 'Two', 3, 4, 'Hello', 'Last']\n"
          ],
          "name": "stdout"
        }
      ]
    },
    {
      "cell_type": "code",
      "metadata": {
        "id": "CHOv5b8aHP7V",
        "colab_type": "code",
        "outputId": "73d264f2-d37f-4520-b5d9-25bbe8cc7f5e",
        "colab": {}
      },
      "source": [
        "l = [1,2,3,4,5]\n",
        "\n",
        "i = 0\n",
        "# While Loop in Python\n",
        "while i<len(l):\n",
        "    l[i] += 1\n",
        "    print(i,l[i])\n",
        "    i = i + 1\n",
        "print(\"Outside\")\n",
        "    \n",
        "print(l)"
      ],
      "execution_count": 0,
      "outputs": [
        {
          "output_type": "stream",
          "text": [
            "0 2\n",
            "1 3\n",
            "2 4\n",
            "3 5\n",
            "4 6\n",
            "Outside\n",
            "[2, 3, 4, 5, 6]\n"
          ],
          "name": "stdout"
        }
      ]
    },
    {
      "cell_type": "code",
      "metadata": {
        "id": "_cOLCNysHP7Z",
        "colab_type": "code",
        "outputId": "e06e3915-9937-4a91-8796-e0e50ecded73",
        "colab": {}
      },
      "source": [
        "# For Loop\n",
        "\n",
        "for x in l:\n",
        "    print(x)"
      ],
      "execution_count": 0,
      "outputs": [
        {
          "output_type": "stream",
          "text": [
            "2\n",
            "3\n",
            "4\n",
            "5\n",
            "6\n"
          ],
          "name": "stdout"
        }
      ]
    },
    {
      "cell_type": "code",
      "metadata": {
        "id": "PBTC6lvAHP7c",
        "colab_type": "code",
        "outputId": "cf3b0c51-59a4-47fd-c9ff-d9125b9105e2",
        "colab": {}
      },
      "source": [
        "for i in range(5,12,2):\n",
        "    print(i)"
      ],
      "execution_count": 0,
      "outputs": [
        {
          "output_type": "stream",
          "text": [
            "5\n",
            "7\n",
            "9\n",
            "11\n"
          ],
          "name": "stdout"
        }
      ]
    },
    {
      "cell_type": "code",
      "metadata": {
        "id": "GkCY0coaHP7f",
        "colab_type": "code",
        "outputId": "6c9d06b7-17f6-4a82-af80-10e8df71133a",
        "colab": {}
      },
      "source": [
        "def factorial(n):\n",
        "    \n",
        "    ans = 1\n",
        "    for i in range(1,n+1):\n",
        "        ans = ans*i\n",
        "    return ans\n",
        "    \n",
        "n = int(input())\n",
        "factorial(n) "
      ],
      "execution_count": 0,
      "outputs": [
        {
          "output_type": "stream",
          "text": [
            "4\n"
          ],
          "name": "stdout"
        },
        {
          "output_type": "execute_result",
          "data": {
            "text/plain": [
              "24"
            ]
          },
          "metadata": {
            "tags": []
          },
          "execution_count": 53
        }
      ]
    },
    {
      "cell_type": "code",
      "metadata": {
        "id": "WxV_HmwyHP7l",
        "colab_type": "code",
        "colab": {}
      },
      "source": [
        "# Check if a no is prime\n",
        "def prime(n):\n",
        "    \n",
        "    for i in range(2,n):\n",
        "        if n%i==0:\n",
        "            return False\n",
        "    \n",
        "    return True"
      ],
      "execution_count": 0,
      "outputs": []
    },
    {
      "cell_type": "code",
      "metadata": {
        "id": "6pPmmwxQHP7o",
        "colab_type": "code",
        "outputId": "e5113d70-b1f0-4509-c45d-746c55d62957",
        "colab": {}
      },
      "source": [
        "prime(6)"
      ],
      "execution_count": 0,
      "outputs": [
        {
          "output_type": "execute_result",
          "data": {
            "text/plain": [
              "False"
            ]
          },
          "metadata": {
            "tags": []
          },
          "execution_count": 57
        }
      ]
    },
    {
      "cell_type": "code",
      "metadata": {
        "id": "TPwbRR5CHP7r",
        "colab_type": "code",
        "colab": {}
      },
      "source": [
        "def printPrime(n):\n",
        "    for i in range(1,n+1):\n",
        "        if prime(i):\n",
        "            print(i,end=',')\n",
        "            \n",
        "    return\n",
        "    "
      ],
      "execution_count": 0,
      "outputs": []
    },
    {
      "cell_type": "code",
      "metadata": {
        "id": "necgBFVvHP7u",
        "colab_type": "code",
        "outputId": "9575af2d-dead-4fa2-a88d-a7380e5f4377",
        "colab": {}
      },
      "source": [
        "printPrime(100)"
      ],
      "execution_count": 0,
      "outputs": [
        {
          "output_type": "stream",
          "text": [
            "1,2,3,5,7,11,13,17,19,23,29,31,37,41,43,47,53,59,61,67,71,73,79,83,89,97,"
          ],
          "name": "stdout"
        }
      ]
    },
    {
      "cell_type": "code",
      "metadata": {
        "id": "-4p-zI2JHP7y",
        "colab_type": "code",
        "outputId": "4558dc96-53bf-4739-e6c7-35129cb93132",
        "colab": {}
      },
      "source": [
        "l = [1,5,7,9,10]\n",
        "l = sorted(l,reverse=True)\n",
        "print(l)\n",
        "l[0] = 20\n",
        "print(l)"
      ],
      "execution_count": 0,
      "outputs": [
        {
          "output_type": "stream",
          "text": [
            "[10, 9, 7, 5, 1]\n",
            "[20, 9, 7, 5, 1]\n"
          ],
          "name": "stdout"
        }
      ]
    },
    {
      "cell_type": "code",
      "metadata": {
        "id": "7aAuB7DLHP71",
        "colab_type": "code",
        "outputId": "cb1c45d0-f50b-4ccf-cb3f-d1ba6be5f0cb",
        "colab": {}
      },
      "source": [
        "# Tuple\n",
        "t = (1,2,3,4,5)\n",
        "print(t)\n",
        "print(t[0])\n",
        "print(type(t))"
      ],
      "execution_count": 0,
      "outputs": [
        {
          "output_type": "stream",
          "text": [
            "(1, 2, 3, 4, 5)\n",
            "1\n",
            "<class 'tuple'>\n"
          ],
          "name": "stdout"
        }
      ]
    },
    {
      "cell_type": "code",
      "metadata": {
        "id": "FG-jT079HP74",
        "colab_type": "code",
        "outputId": "e0620d9e-0ad9-416e-d78b-20d107047d62",
        "colab": {}
      },
      "source": [
        "\"\"\" Libraries for Data Science / ML\n",
        "1. Get the Data\n",
        "2. Exploratory Analysis\n",
        "3. Data Cleaning\n",
        "4. Data Visualisation\n",
        "5. Modelling - Machine Learning Models\n",
        "6. Train & Test\n",
        "7. Results Understand\n",
        "\"\"\""
      ],
      "execution_count": 0,
      "outputs": [
        {
          "output_type": "execute_result",
          "data": {
            "text/plain": [
              "' Libraries for Data Science / ML\\n1. Get the Data\\n2. Exploratory Analysis\\n3. Data Cleaning\\n4. Data Visualisation\\n5. Modelling - Machine Learning Models\\n6. Train & Test\\n7. Results Understand\\n'"
            ]
          },
          "metadata": {
            "tags": []
          },
          "execution_count": 78
        }
      ]
    },
    {
      "cell_type": "code",
      "metadata": {
        "id": "tVzDe6pYHP76",
        "colab_type": "code",
        "colab": {}
      },
      "source": [
        "# Numpy\n",
        "import numpy as np"
      ],
      "execution_count": 0,
      "outputs": []
    },
    {
      "cell_type": "code",
      "metadata": {
        "id": "ZJDPWi56HP79",
        "colab_type": "code",
        "outputId": "31266217-e71f-498b-d1b2-5ad9a00d2fa8",
        "colab": {}
      },
      "source": [
        "a = np.array([1,2,3])\n",
        "print(a)\n",
        "print(type(a))\n",
        "a = a + 1\n",
        "print(a)\n",
        "print(a.shape)"
      ],
      "execution_count": 0,
      "outputs": [
        {
          "output_type": "stream",
          "text": [
            "[1 2 3]\n",
            "<class 'numpy.ndarray'>\n",
            "[2 3 4]\n",
            "(3,)\n"
          ],
          "name": "stdout"
        }
      ]
    },
    {
      "cell_type": "code",
      "metadata": {
        "id": "VttrbgJuHP8B",
        "colab_type": "code",
        "outputId": "36e6b878-377b-41bd-dd64-2d60b644923a",
        "colab": {}
      },
      "source": [
        "b = np.array([[1,2,3,4],\n",
        "             [5,6,7,8]])\n",
        "\n",
        "c = np.array([1,2,3,4])\n",
        "\n",
        "print(b+c+1)\n",
        "print(type(b))\n",
        "print(b.shape)"
      ],
      "execution_count": 0,
      "outputs": [
        {
          "output_type": "stream",
          "text": [
            "[[ 3  5  7  9]\n",
            " [ 7  9 11 13]]\n",
            "<class 'numpy.ndarray'>\n",
            "(2, 4)\n"
          ],
          "name": "stdout"
        }
      ]
    },
    {
      "cell_type": "code",
      "metadata": {
        "id": "6GuFr8clHP8E",
        "colab_type": "code",
        "outputId": "37606dbd-fd02-484d-d35f-d1b14ddd1d9a",
        "colab": {}
      },
      "source": [
        "a"
      ],
      "execution_count": 0,
      "outputs": [
        {
          "output_type": "execute_result",
          "data": {
            "text/plain": [
              "array([2, 3, 4])"
            ]
          },
          "metadata": {
            "tags": []
          },
          "execution_count": 91
        }
      ]
    },
    {
      "cell_type": "code",
      "metadata": {
        "id": "h9lIT24IHP8H",
        "colab_type": "code",
        "outputId": "8d5468fe-20b6-4dcc-e4cb-370cd184aae0",
        "colab": {}
      },
      "source": [
        "a**2"
      ],
      "execution_count": 0,
      "outputs": [
        {
          "output_type": "execute_result",
          "data": {
            "text/plain": [
              "array([ 4,  9, 16])"
            ]
          },
          "metadata": {
            "tags": []
          },
          "execution_count": 92
        }
      ]
    },
    {
      "cell_type": "code",
      "metadata": {
        "id": "fcSQpT7dHP8J",
        "colab_type": "code",
        "outputId": "cab2e9a4-cf11-41bd-b9df-fd1a7deeaddb",
        "colab": {}
      },
      "source": [
        "a = np.zeros((5,),dtype='int')\n",
        "print(a)"
      ],
      "execution_count": 0,
      "outputs": [
        {
          "output_type": "stream",
          "text": [
            "[0 0 0 0 0]\n"
          ],
          "name": "stdout"
        }
      ]
    },
    {
      "cell_type": "code",
      "metadata": {
        "id": "gzChhnP0HP8N",
        "colab_type": "code",
        "outputId": "0baa3f91-03ee-410a-869f-48adf547e561",
        "colab": {}
      },
      "source": [
        "a = np.array([1,2,3])\n",
        "print(a)"
      ],
      "execution_count": 0,
      "outputs": [
        {
          "output_type": "stream",
          "text": [
            "[1 2 3]\n"
          ],
          "name": "stdout"
        }
      ]
    },
    {
      "cell_type": "code",
      "metadata": {
        "id": "CPxAu2auHP8Q",
        "colab_type": "code",
        "outputId": "b45aeae0-e0b7-41ec-b68d-797098ba916e",
        "colab": {}
      },
      "source": [
        "a.shape"
      ],
      "execution_count": 0,
      "outputs": [
        {
          "output_type": "execute_result",
          "data": {
            "text/plain": [
              "(3,)"
            ]
          },
          "metadata": {
            "tags": []
          },
          "execution_count": 99
        }
      ]
    },
    {
      "cell_type": "code",
      "metadata": {
        "id": "a1JDD0IFHP8S",
        "colab_type": "code",
        "outputId": "bc45b2ba-82d5-45e9-d6e1-7b1c78e9f1a6",
        "colab": {}
      },
      "source": [
        "a = a.reshape((3,1))\n",
        "print(a)\n"
      ],
      "execution_count": 0,
      "outputs": [
        {
          "output_type": "stream",
          "text": [
            "[[1]\n",
            " [2]\n",
            " [3]]\n"
          ],
          "name": "stdout"
        }
      ]
    },
    {
      "cell_type": "code",
      "metadata": {
        "id": "tvcriGKnHP8V",
        "colab_type": "code",
        "outputId": "5d9f91cd-c82b-44cc-dad7-39494962a214",
        "colab": {}
      },
      "source": [
        "np.dot(a.T,a)"
      ],
      "execution_count": 0,
      "outputs": [
        {
          "output_type": "execute_result",
          "data": {
            "text/plain": [
              "array([[14]])"
            ]
          },
          "metadata": {
            "tags": []
          },
          "execution_count": 112
        }
      ]
    },
    {
      "cell_type": "code",
      "metadata": {
        "id": "RKzV4wtuHP8Y",
        "colab_type": "code",
        "outputId": "1e6820eb-aad8-4816-ce20-ab90b342e8fb",
        "colab": {}
      },
      "source": [
        "a*a"
      ],
      "execution_count": 0,
      "outputs": [
        {
          "output_type": "execute_result",
          "data": {
            "text/plain": [
              "array([[1],\n",
              "       [4],\n",
              "       [9]])"
            ]
          },
          "metadata": {
            "tags": []
          },
          "execution_count": 113
        }
      ]
    },
    {
      "cell_type": "code",
      "metadata": {
        "id": "WxkhougmHP8e",
        "colab_type": "code",
        "outputId": "d321d8db-24a6-4f42-edee-af8716dce6e4",
        "colab": {}
      },
      "source": [
        "### Data Visualisation\n",
        "import matplotlib.pyplot as plt\n",
        "\n",
        "x = np.array([1,2,3,4,5])\n",
        "y = x**2\n",
        "\n",
        "print(x,y)"
      ],
      "execution_count": 0,
      "outputs": [
        {
          "output_type": "stream",
          "text": [
            "[1 2 3 4 5] [ 1  4  9 16 25]\n"
          ],
          "name": "stdout"
        }
      ]
    },
    {
      "cell_type": "code",
      "metadata": {
        "id": "sW3RmOIdHP8h",
        "colab_type": "code",
        "outputId": "6084e522-1666-4bd3-f250-1ae5435200bf",
        "colab": {}
      },
      "source": [
        "plt.style.use(\"seaborn\")\n",
        "plt.scatter(x,y)\n",
        "plt.plot(x,y,color='orange',label=\"2020\")\n",
        "plt.plot(x,x,color='red',label=\"2019\")\n",
        "plt.title(\"Workout Plot\")\n",
        "plt.xlim(0,25)\n",
        "plt.xlabel(\"Time Taken in Gym\")\n",
        "plt.ylabel(\"Calories burnt\")\n",
        "plt.legend()\n",
        "plt.show()"
      ],
      "execution_count": 0,
      "outputs": [
        {
          "output_type": "display_data",
          "data": {
            "image/png": "[encoded data removed]",
            "text/plain": [
              "<Figure size 576x396 with 1 Axes>"
            ]
          },
          "metadata": {
            "tags": []
          }
        }
      ]
    },
    {
      "cell_type": "code",
      "metadata": {
        "id": "o3ua3o8oHP8k",
        "colab_type": "code",
        "colab": {}
      },
      "source": [
        "# lets Begin"
      ],
      "execution_count": 0,
      "outputs": []
    },
    {
      "cell_type": "code",
      "metadata": {
        "id": "rrCM-UjmHP8n",
        "colab_type": "code",
        "colab": {}
      },
      "source": [
        "T = np.array([1,2,3,4,5,6,7,8,9,10])\n",
        "E = (T-5)**2"
      ],
      "execution_count": 0,
      "outputs": []
    },
    {
      "cell_type": "code",
      "metadata": {
        "id": "FudqF4hDHP8q",
        "colab_type": "code",
        "outputId": "1586fb57-56f3-4a9d-a922-ad25714eaf2f",
        "colab": {}
      },
      "source": [
        "plt.plot(T,E)\n",
        "plt.show()"
      ],
      "execution_count": 0,
      "outputs": [
        {
          "output_type": "display_data",
          "data": {
            "image/png": "[encoded data removed]",
            "text/plain": [
              "<Figure size 576x396 with 1 Axes>"
            ]
          },
          "metadata": {
            "tags": []
          }
        }
      ]
    },
    {
      "cell_type": "code",
      "metadata": {
        "id": "W49t6_5hHP8t",
        "colab_type": "code",
        "outputId": "20fc7e84-1912-499f-f659-26b692098fe8",
        "colab": {}
      },
      "source": [
        "theta = 0\n",
        "lr = 0.1\n",
        "plt.plot(T,E)\n",
        "for i in range(50):\n",
        "    error = (theta-5)**2\n",
        "    plt.scatter(theta,error)\n",
        "    theta = theta - lr*2*(theta-5)\n",
        "    \n",
        "    \n",
        "plt.show()\n",
        "print(theta)"
      ],
      "execution_count": 0,
      "outputs": [
        {
          "output_type": "display_data",
          "data": {
            "image/png": "[encoded data removed]",
            "text/plain": [
              "<Figure size 576x396 with 1 Axes>"
            ]
          },
          "metadata": {
            "tags": []
          }
        },
        {
          "output_type": "stream",
          "text": [
            "4.999928637615365\n"
          ],
          "name": "stdout"
        }
      ]
    },
    {
      "cell_type": "code",
      "metadata": {
        "id": "8_IsJoxvHP8v",
        "colab_type": "code",
        "colab": {}
      },
      "source": [
        "## Data Generation\n",
        "\n",
        "import numpy as np\n"
      ],
      "execution_count": 0,
      "outputs": []
    },
    {
      "cell_type": "code",
      "metadata": {
        "id": "7hO__hY9HP80",
        "colab_type": "code",
        "outputId": "7e70ca4e-8caa-4772-e17a-d29d60bcf045",
        "colab": {}
      },
      "source": [
        "X = np.random.randn(100)\n",
        "noise = 0.3*np.random.randn(100)\n",
        "Y = 2*X + 3 + noise\n",
        "\n",
        "plt.figure(figsize=(6,4))\n",
        "plt.scatter(X,Y)\n",
        "plt.show()"
      ],
      "execution_count": 0,
      "outputs": [
        {
          "output_type": "display_data",
          "data": {
            "image/png": "[encoded data removed]",
            "text/plain": [
              "<Figure size 432x288 with 1 Axes>"
            ]
          },
          "metadata": {
            "tags": []
          }
        }
      ]
    },
    {
      "cell_type": "code",
      "metadata": {
        "id": "DkIwHuJOHP82",
        "colab_type": "code",
        "colab": {}
      },
      "source": [
        "## Linear Regression\n",
        "#x - single data point\n",
        "#X - All Data Points\n",
        "\n",
        "def y_hat(theta,x):\n",
        "    return theta[1]*x + theta[0]\n",
        "\n",
        "def Error(X,Y,theta):\n",
        "    m = X.shape[0]\n",
        "    e = 0.0\n",
        "    for i in range(m):\n",
        "        y = Y[i]\n",
        "        y_ = y_hat(theta,X[i])\n",
        "        e += (y_ - y)**2\n",
        "        \n",
        "    return e/m\n",
        "\n",
        "def gradients(X,Y,theta):\n",
        "    m = X.shape[0]\n",
        "    grad = np.zeros((2,))\n",
        "    \n",
        "    for i in range(m):\n",
        "        y = Y[i]\n",
        "        y_ = y_hat(theta,X[i])\n",
        "        grad[0] += (y_ - y)\n",
        "        grad[1] += (y_ - y)*X[i]\n",
        "        \n",
        "    return 2*grad/m\n",
        "    \n",
        "\n",
        "def gradientDescent(X,Y):\n",
        "    theta = np.zeros((2,))\n",
        "    lr = 0.1\n",
        "    errors_list = []\n",
        "    for i in range(30):\n",
        "        grad = gradients(X,Y,theta)\n",
        "        e = Error(X,Y,theta)\n",
        "        errors_list.append(e)\n",
        "        theta[0] = theta[0] - lr*grad[0]\n",
        "        theta[1] = theta[1] - lr*grad[1]\n",
        "    \n",
        "    plt.plot(errors_list)\n",
        "    plt.show()\n",
        "    return theta"
      ],
      "execution_count": 0,
      "outputs": []
    },
    {
      "cell_type": "code",
      "metadata": {
        "id": "_kGfBW3lHP84",
        "colab_type": "code",
        "outputId": "53cd889e-e2eb-48ee-94fd-26736f465d45",
        "colab": {}
      },
      "source": [
        "theta = gradientDescent(X,Y)"
      ],
      "execution_count": 0,
      "outputs": [
        {
          "output_type": "display_data",
          "data": {
            "image/png": "[encoded data removed]",
            "text/plain": [
              "<Figure size 576x396 with 1 Axes>"
            ]
          },
          "metadata": {
            "tags": []
          }
        }
      ]
    },
    {
      "cell_type": "code",
      "metadata": {
        "id": "JtwTTmdoHP87",
        "colab_type": "code",
        "colab": {}
      },
      "source": [
        "preds = theta[1]*X + theta[0]\n",
        "#print(preds)"
      ],
      "execution_count": 0,
      "outputs": []
    },
    {
      "cell_type": "code",
      "metadata": {
        "id": "dYA97ZTOHP8-",
        "colab_type": "code",
        "outputId": "7f658f5b-14c7-45a9-91f2-3177f532cfa6",
        "colab": {}
      },
      "source": [
        "plt.scatter(X,Y)\n",
        "plt.plot(X,preds,color='orange')\n",
        "plt.show()"
      ],
      "execution_count": 0,
      "outputs": [
        {
          "output_type": "display_data",
          "data": {
            "image/png": "[encoded data removed]",
            "text/plain": [
              "<Figure size 576x396 with 1 Axes>"
            ]
          },
          "metadata": {
            "tags": []
          }
        }
      ]
    },
    {
      "cell_type": "code",
      "metadata": {
        "id": "2l6DWDCjHP9B",
        "colab_type": "code",
        "colab": {}
      },
      "source": [
        ""
      ],
      "execution_count": 0,
      "outputs": []
    }
  ]
}